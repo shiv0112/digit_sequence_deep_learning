{
 "cells": [
  {
   "cell_type": "markdown",
   "metadata": {},
   "source": [
    "### Importing all the libraries"
   ]
  },
  {
   "cell_type": "code",
   "execution_count": 1,
   "metadata": {},
   "outputs": [],
   "source": [
    "import numpy as np\n",
    "import pandas as pd\n",
    "import matplotlib.pyplot as plt\n",
    "\n",
    "from sklearn.preprocessing import StandardScaler\n",
    "from sklearn.model_selection import train_test_split\n",
    "from sklearn.model_selection import GridSearchCV\n",
    "from keras.wrappers.scikit_learn import KerasClassifier\n",
    "from keras.models import Sequential\n",
    "from keras.layers import Dense, Activation, Dropout\n"
   ]
  },
  {
   "cell_type": "code",
   "execution_count": 2,
   "metadata": {},
   "outputs": [],
   "source": [
    "df = pd.read_csv(\"data.csv\")"
   ]
  },
  {
   "cell_type": "code",
   "execution_count": 3,
   "metadata": {},
   "outputs": [
    {
     "data": {
      "text/html": [
       "<div>\n",
       "<style scoped>\n",
       "    .dataframe tbody tr th:only-of-type {\n",
       "        vertical-align: middle;\n",
       "    }\n",
       "\n",
       "    .dataframe tbody tr th {\n",
       "        vertical-align: top;\n",
       "    }\n",
       "\n",
       "    .dataframe thead th {\n",
       "        text-align: right;\n",
       "    }\n",
       "</style>\n",
       "<table border=\"1\" class=\"dataframe\">\n",
       "  <thead>\n",
       "    <tr style=\"text-align: right;\">\n",
       "      <th></th>\n",
       "      <th>0</th>\n",
       "      <th>1</th>\n",
       "      <th>2</th>\n",
       "      <th>3</th>\n",
       "      <th>4</th>\n",
       "      <th>5</th>\n",
       "      <th>6</th>\n",
       "      <th>7</th>\n",
       "      <th>8</th>\n",
       "    </tr>\n",
       "  </thead>\n",
       "  <tbody>\n",
       "    <tr>\n",
       "      <th>0</th>\n",
       "      <td>1</td>\n",
       "      <td>3</td>\n",
       "      <td>5</td>\n",
       "      <td>7</td>\n",
       "      <td>9</td>\n",
       "      <td>11</td>\n",
       "      <td>13</td>\n",
       "      <td>15</td>\n",
       "      <td>17</td>\n",
       "    </tr>\n",
       "    <tr>\n",
       "      <th>1</th>\n",
       "      <td>3</td>\n",
       "      <td>5</td>\n",
       "      <td>7</td>\n",
       "      <td>9</td>\n",
       "      <td>11</td>\n",
       "      <td>13</td>\n",
       "      <td>15</td>\n",
       "      <td>17</td>\n",
       "      <td>19</td>\n",
       "    </tr>\n",
       "    <tr>\n",
       "      <th>2</th>\n",
       "      <td>5</td>\n",
       "      <td>7</td>\n",
       "      <td>9</td>\n",
       "      <td>11</td>\n",
       "      <td>13</td>\n",
       "      <td>15</td>\n",
       "      <td>17</td>\n",
       "      <td>19</td>\n",
       "      <td>21</td>\n",
       "    </tr>\n",
       "    <tr>\n",
       "      <th>3</th>\n",
       "      <td>7</td>\n",
       "      <td>9</td>\n",
       "      <td>11</td>\n",
       "      <td>13</td>\n",
       "      <td>15</td>\n",
       "      <td>17</td>\n",
       "      <td>19</td>\n",
       "      <td>21</td>\n",
       "      <td>23</td>\n",
       "    </tr>\n",
       "    <tr>\n",
       "      <th>4</th>\n",
       "      <td>9</td>\n",
       "      <td>11</td>\n",
       "      <td>13</td>\n",
       "      <td>15</td>\n",
       "      <td>17</td>\n",
       "      <td>19</td>\n",
       "      <td>21</td>\n",
       "      <td>23</td>\n",
       "      <td>25</td>\n",
       "    </tr>\n",
       "    <tr>\n",
       "      <th>...</th>\n",
       "      <td>...</td>\n",
       "      <td>...</td>\n",
       "      <td>...</td>\n",
       "      <td>...</td>\n",
       "      <td>...</td>\n",
       "      <td>...</td>\n",
       "      <td>...</td>\n",
       "      <td>...</td>\n",
       "      <td>...</td>\n",
       "    </tr>\n",
       "    <tr>\n",
       "      <th>94</th>\n",
       "      <td>189</td>\n",
       "      <td>191</td>\n",
       "      <td>193</td>\n",
       "      <td>195</td>\n",
       "      <td>197</td>\n",
       "      <td>199</td>\n",
       "      <td>201</td>\n",
       "      <td>203</td>\n",
       "      <td>205</td>\n",
       "    </tr>\n",
       "    <tr>\n",
       "      <th>95</th>\n",
       "      <td>191</td>\n",
       "      <td>193</td>\n",
       "      <td>195</td>\n",
       "      <td>197</td>\n",
       "      <td>199</td>\n",
       "      <td>201</td>\n",
       "      <td>203</td>\n",
       "      <td>205</td>\n",
       "      <td>207</td>\n",
       "    </tr>\n",
       "    <tr>\n",
       "      <th>96</th>\n",
       "      <td>193</td>\n",
       "      <td>195</td>\n",
       "      <td>197</td>\n",
       "      <td>199</td>\n",
       "      <td>201</td>\n",
       "      <td>203</td>\n",
       "      <td>205</td>\n",
       "      <td>207</td>\n",
       "      <td>209</td>\n",
       "    </tr>\n",
       "    <tr>\n",
       "      <th>97</th>\n",
       "      <td>195</td>\n",
       "      <td>197</td>\n",
       "      <td>199</td>\n",
       "      <td>201</td>\n",
       "      <td>203</td>\n",
       "      <td>205</td>\n",
       "      <td>207</td>\n",
       "      <td>209</td>\n",
       "      <td>211</td>\n",
       "    </tr>\n",
       "    <tr>\n",
       "      <th>98</th>\n",
       "      <td>197</td>\n",
       "      <td>199</td>\n",
       "      <td>201</td>\n",
       "      <td>203</td>\n",
       "      <td>205</td>\n",
       "      <td>207</td>\n",
       "      <td>209</td>\n",
       "      <td>211</td>\n",
       "      <td>213</td>\n",
       "    </tr>\n",
       "  </tbody>\n",
       "</table>\n",
       "<p>99 rows × 9 columns</p>\n",
       "</div>"
      ],
      "text/plain": [
       "      0    1    2    3    4    5    6    7    8\n",
       "0     1    3    5    7    9   11   13   15   17\n",
       "1     3    5    7    9   11   13   15   17   19\n",
       "2     5    7    9   11   13   15   17   19   21\n",
       "3     7    9   11   13   15   17   19   21   23\n",
       "4     9   11   13   15   17   19   21   23   25\n",
       "..  ...  ...  ...  ...  ...  ...  ...  ...  ...\n",
       "94  189  191  193  195  197  199  201  203  205\n",
       "95  191  193  195  197  199  201  203  205  207\n",
       "96  193  195  197  199  201  203  205  207  209\n",
       "97  195  197  199  201  203  205  207  209  211\n",
       "98  197  199  201  203  205  207  209  211  213\n",
       "\n",
       "[99 rows x 9 columns]"
      ]
     },
     "execution_count": 3,
     "metadata": {},
     "output_type": "execute_result"
    }
   ],
   "source": [
    "df"
   ]
  },
  {
   "cell_type": "code",
   "execution_count": 4,
   "metadata": {},
   "outputs": [
    {
     "data": {
      "text/html": [
       "<div>\n",
       "<style scoped>\n",
       "    .dataframe tbody tr th:only-of-type {\n",
       "        vertical-align: middle;\n",
       "    }\n",
       "\n",
       "    .dataframe tbody tr th {\n",
       "        vertical-align: top;\n",
       "    }\n",
       "\n",
       "    .dataframe thead th {\n",
       "        text-align: right;\n",
       "    }\n",
       "</style>\n",
       "<table border=\"1\" class=\"dataframe\">\n",
       "  <thead>\n",
       "    <tr style=\"text-align: right;\">\n",
       "      <th></th>\n",
       "      <th>0</th>\n",
       "      <th>1</th>\n",
       "      <th>2</th>\n",
       "      <th>3</th>\n",
       "      <th>4</th>\n",
       "      <th>5</th>\n",
       "      <th>6</th>\n",
       "      <th>7</th>\n",
       "    </tr>\n",
       "  </thead>\n",
       "  <tbody>\n",
       "    <tr>\n",
       "      <th>0</th>\n",
       "      <td>1</td>\n",
       "      <td>3</td>\n",
       "      <td>5</td>\n",
       "      <td>7</td>\n",
       "      <td>9</td>\n",
       "      <td>11</td>\n",
       "      <td>13</td>\n",
       "      <td>15</td>\n",
       "    </tr>\n",
       "    <tr>\n",
       "      <th>1</th>\n",
       "      <td>3</td>\n",
       "      <td>5</td>\n",
       "      <td>7</td>\n",
       "      <td>9</td>\n",
       "      <td>11</td>\n",
       "      <td>13</td>\n",
       "      <td>15</td>\n",
       "      <td>17</td>\n",
       "    </tr>\n",
       "    <tr>\n",
       "      <th>2</th>\n",
       "      <td>5</td>\n",
       "      <td>7</td>\n",
       "      <td>9</td>\n",
       "      <td>11</td>\n",
       "      <td>13</td>\n",
       "      <td>15</td>\n",
       "      <td>17</td>\n",
       "      <td>19</td>\n",
       "    </tr>\n",
       "    <tr>\n",
       "      <th>3</th>\n",
       "      <td>7</td>\n",
       "      <td>9</td>\n",
       "      <td>11</td>\n",
       "      <td>13</td>\n",
       "      <td>15</td>\n",
       "      <td>17</td>\n",
       "      <td>19</td>\n",
       "      <td>21</td>\n",
       "    </tr>\n",
       "    <tr>\n",
       "      <th>4</th>\n",
       "      <td>9</td>\n",
       "      <td>11</td>\n",
       "      <td>13</td>\n",
       "      <td>15</td>\n",
       "      <td>17</td>\n",
       "      <td>19</td>\n",
       "      <td>21</td>\n",
       "      <td>23</td>\n",
       "    </tr>\n",
       "  </tbody>\n",
       "</table>\n",
       "</div>"
      ],
      "text/plain": [
       "   0   1   2   3   4   5   6   7\n",
       "0  1   3   5   7   9  11  13  15\n",
       "1  3   5   7   9  11  13  15  17\n",
       "2  5   7   9  11  13  15  17  19\n",
       "3  7   9  11  13  15  17  19  21\n",
       "4  9  11  13  15  17  19  21  23"
      ]
     },
     "execution_count": 4,
     "metadata": {},
     "output_type": "execute_result"
    }
   ],
   "source": [
    "X=df.iloc[:,:8]\n",
    "X.head()"
   ]
  },
  {
   "cell_type": "code",
   "execution_count": 5,
   "metadata": {
    "scrolled": true
   },
   "outputs": [
    {
     "data": {
      "text/plain": [
       "0    17\n",
       "1    19\n",
       "2    21\n",
       "3    23\n",
       "4    25\n",
       "Name: 8, dtype: int64"
      ]
     },
     "execution_count": 5,
     "metadata": {},
     "output_type": "execute_result"
    }
   ],
   "source": [
    "y=df.iloc[:,8]\n",
    "y.head()"
   ]
  },
  {
   "cell_type": "code",
   "execution_count": 6,
   "metadata": {
    "scrolled": true
   },
   "outputs": [
    {
     "name": "stdout",
     "output_type": "stream",
     "text": [
      "<class 'pandas.core.frame.DataFrame'>\n",
      "RangeIndex: 99 entries, 0 to 98\n",
      "Data columns (total 9 columns):\n",
      " #   Column  Non-Null Count  Dtype\n",
      "---  ------  --------------  -----\n",
      " 0   0       99 non-null     int64\n",
      " 1   1       99 non-null     int64\n",
      " 2   2       99 non-null     int64\n",
      " 3   3       99 non-null     int64\n",
      " 4   4       99 non-null     int64\n",
      " 5   5       99 non-null     int64\n",
      " 6   6       99 non-null     int64\n",
      " 7   7       99 non-null     int64\n",
      " 8   8       99 non-null     int64\n",
      "dtypes: int64(9)\n",
      "memory usage: 7.1 KB\n"
     ]
    }
   ],
   "source": [
    "df.info()"
   ]
  },
  {
   "cell_type": "markdown",
   "metadata": {},
   "source": [
    "### Training"
   ]
  },
  {
   "cell_type": "code",
   "execution_count": 7,
   "metadata": {},
   "outputs": [],
   "source": [
    "X_train, X_test, y_train, y_test = train_test_split(X,y,random_state=42)"
   ]
  },
  {
   "cell_type": "code",
   "execution_count": 8,
   "metadata": {},
   "outputs": [],
   "source": [
    "model = Sequential()\n",
    "\n",
    "model.add(Dense(256, input_dim=X_train.shape[1], activation='relu'))\n",
    "\n",
    "model.add(Dense(128, activation='relu'))\n",
    "\n",
    "model.add(Dense(1, activation='relu'))\n",
    "    \n",
    "model.compile(loss='mean_squared_error', optimizer='adam')"
   ]
  },
  {
   "cell_type": "code",
   "execution_count": 9,
   "metadata": {},
   "outputs": [
    {
     "name": "stdout",
     "output_type": "stream",
     "text": [
      "Model: \"sequential\"\n",
      "_________________________________________________________________\n",
      " Layer (type)                Output Shape              Param #   \n",
      "=================================================================\n",
      " dense (Dense)               (None, 256)               2304      \n",
      "                                                                 \n",
      " dense_1 (Dense)             (None, 128)               32896     \n",
      "                                                                 \n",
      " dense_2 (Dense)             (None, 1)                 129       \n",
      "                                                                 \n",
      "=================================================================\n",
      "Total params: 35,329\n",
      "Trainable params: 35,329\n",
      "Non-trainable params: 0\n",
      "_________________________________________________________________\n"
     ]
    }
   ],
   "source": [
    "model.summary()"
   ]
  },
  {
   "cell_type": "code",
   "execution_count": 10,
   "metadata": {},
   "outputs": [
    {
     "name": "stdout",
     "output_type": "stream",
     "text": [
      "Epoch 1/100\n",
      "2/2 [==============================] - 0s 136ms/step - loss: 15988.6035 - val_loss: 15275.2246\n",
      "Epoch 2/100\n",
      "2/2 [==============================] - 0s 28ms/step - loss: 10894.6377 - val_loss: 6041.7964\n",
      "Epoch 3/100\n",
      "2/2 [==============================] - 0s 25ms/step - loss: 3635.2473 - val_loss: 737.8469\n",
      "Epoch 4/100\n",
      "2/2 [==============================] - 0s 26ms/step - loss: 401.5406 - val_loss: 381.0906\n",
      "Epoch 5/100\n",
      "2/2 [==============================] - 0s 31ms/step - loss: 539.9782 - val_loss: 2129.1558\n",
      "Epoch 6/100\n",
      "2/2 [==============================] - 0s 29ms/step - loss: 1883.7900 - val_loss: 2716.4697\n",
      "Epoch 7/100\n",
      "2/2 [==============================] - 0s 29ms/step - loss: 1980.3569 - val_loss: 1847.6124\n",
      "Epoch 8/100\n",
      "2/2 [==============================] - 0s 32ms/step - loss: 1174.8003 - val_loss: 682.4495\n",
      "Epoch 9/100\n",
      "2/2 [==============================] - 0s 27ms/step - loss: 407.8284 - val_loss: 58.7051\n",
      "Epoch 10/100\n",
      "2/2 [==============================] - 0s 36ms/step - loss: 23.5282 - val_loss: 90.2373\n",
      "Epoch 11/100\n",
      "2/2 [==============================] - 0s 29ms/step - loss: 135.1404 - val_loss: 396.1601\n",
      "Epoch 12/100\n",
      "2/2 [==============================] - 0s 28ms/step - loss: 385.4180 - val_loss: 599.3647\n",
      "Epoch 13/100\n",
      "2/2 [==============================] - 0s 24ms/step - loss: 511.4460 - val_loss: 547.2021\n",
      "Epoch 14/100\n",
      "2/2 [==============================] - 0s 29ms/step - loss: 425.2305 - val_loss: 304.7901\n",
      "Epoch 15/100\n",
      "2/2 [==============================] - 0s 28ms/step - loss: 216.4088 - val_loss: 72.0593\n",
      "Epoch 16/100\n",
      "2/2 [==============================] - 0s 32ms/step - loss: 43.4220 - val_loss: 10.1060\n",
      "Epoch 17/100\n",
      "2/2 [==============================] - 0s 29ms/step - loss: 23.7418 - val_loss: 104.7907\n",
      "Epoch 18/100\n",
      "2/2 [==============================] - 0s 29ms/step - loss: 97.2170 - val_loss: 179.8017\n",
      "Epoch 19/100\n",
      "2/2 [==============================] - 0s 29ms/step - loss: 132.8252 - val_loss: 153.1565\n",
      "Epoch 20/100\n",
      "2/2 [==============================] - 0s 27ms/step - loss: 97.3905 - val_loss: 76.2190\n",
      "Epoch 21/100\n",
      "2/2 [==============================] - 0s 26ms/step - loss: 43.7864 - val_loss: 18.8323\n",
      "Epoch 22/100\n",
      "2/2 [==============================] - 0s 24ms/step - loss: 12.3160 - val_loss: 8.6474\n",
      "Epoch 23/100\n",
      "2/2 [==============================] - 0s 28ms/step - loss: 13.2545 - val_loss: 23.1372\n",
      "Epoch 24/100\n",
      "2/2 [==============================] - 0s 27ms/step - loss: 27.7402 - val_loss: 32.6545\n",
      "Epoch 25/100\n",
      "2/2 [==============================] - 0s 31ms/step - loss: 32.6782 - val_loss: 23.4831\n",
      "Epoch 26/100\n",
      "2/2 [==============================] - 0s 26ms/step - loss: 21.0859 - val_loss: 8.2654\n",
      "Epoch 27/100\n",
      "2/2 [==============================] - 0s 30ms/step - loss: 8.2455 - val_loss: 10.7261\n",
      "Epoch 28/100\n",
      "2/2 [==============================] - 0s 29ms/step - loss: 10.2143 - val_loss: 23.1247\n",
      "Epoch 29/100\n",
      "2/2 [==============================] - 0s 31ms/step - loss: 16.7151 - val_loss: 21.6151\n",
      "Epoch 30/100\n",
      "2/2 [==============================] - 0s 30ms/step - loss: 13.6500 - val_loss: 11.6583\n",
      "Epoch 31/100\n",
      "2/2 [==============================] - 0s 29ms/step - loss: 8.2699 - val_loss: 6.6331\n",
      "Epoch 32/100\n",
      "2/2 [==============================] - 0s 29ms/step - loss: 7.4475 - val_loss: 8.2456\n",
      "Epoch 33/100\n",
      "2/2 [==============================] - 0s 35ms/step - loss: 10.1769 - val_loss: 9.2517\n",
      "Epoch 34/100\n",
      "2/2 [==============================] - 0s 26ms/step - loss: 10.4058 - val_loss: 7.3653\n",
      "Epoch 35/100\n",
      "2/2 [==============================] - 0s 26ms/step - loss: 7.9834 - val_loss: 6.3530\n",
      "Epoch 36/100\n",
      "2/2 [==============================] - 0s 29ms/step - loss: 6.5131 - val_loss: 8.1900\n",
      "Epoch 37/100\n",
      "2/2 [==============================] - 0s 29ms/step - loss: 6.8001 - val_loss: 9.6768\n",
      "Epoch 38/100\n",
      "2/2 [==============================] - 0s 37ms/step - loss: 7.4371 - val_loss: 8.6973\n",
      "Epoch 39/100\n",
      "2/2 [==============================] - 0s 23ms/step - loss: 6.5296 - val_loss: 6.5033\n",
      "Epoch 40/100\n",
      "2/2 [==============================] - 0s 32ms/step - loss: 5.0881 - val_loss: 4.3825\n",
      "Epoch 41/100\n",
      "2/2 [==============================] - 0s 34ms/step - loss: 4.5653 - val_loss: 4.1615\n",
      "Epoch 42/100\n",
      "2/2 [==============================] - 0s 35ms/step - loss: 4.4888 - val_loss: 3.9247\n",
      "Epoch 43/100\n",
      "2/2 [==============================] - 0s 29ms/step - loss: 4.2071 - val_loss: 4.5295\n",
      "Epoch 44/100\n",
      "2/2 [==============================] - 0s 36ms/step - loss: 3.8715 - val_loss: 4.6798\n",
      "Epoch 45/100\n",
      "2/2 [==============================] - 0s 29ms/step - loss: 3.6922 - val_loss: 3.3052\n",
      "Epoch 46/100\n",
      "2/2 [==============================] - 0s 28ms/step - loss: 3.4698 - val_loss: 3.1968\n",
      "Epoch 47/100\n",
      "2/2 [==============================] - 0s 29ms/step - loss: 3.4402 - val_loss: 2.9996\n",
      "Epoch 48/100\n",
      "2/2 [==============================] - 0s 26ms/step - loss: 3.0715 - val_loss: 3.4354\n",
      "Epoch 49/100\n",
      "2/2 [==============================] - 0s 26ms/step - loss: 2.8796 - val_loss: 3.0258\n",
      "Epoch 50/100\n",
      "2/2 [==============================] - 0s 30ms/step - loss: 2.5629 - val_loss: 2.3057\n",
      "Epoch 51/100\n",
      "2/2 [==============================] - 0s 31ms/step - loss: 2.2783 - val_loss: 2.2328\n",
      "Epoch 52/100\n",
      "2/2 [==============================] - 0s 32ms/step - loss: 2.0843 - val_loss: 2.0503\n",
      "Epoch 53/100\n",
      "2/2 [==============================] - 0s 26ms/step - loss: 1.9197 - val_loss: 1.9557\n",
      "Epoch 54/100\n",
      "2/2 [==============================] - 0s 27ms/step - loss: 1.7089 - val_loss: 1.6292\n",
      "Epoch 55/100\n",
      "2/2 [==============================] - 0s 23ms/step - loss: 1.5902 - val_loss: 1.5380\n",
      "Epoch 56/100\n",
      "2/2 [==============================] - 0s 27ms/step - loss: 1.3830 - val_loss: 1.6403\n",
      "Epoch 57/100\n",
      "2/2 [==============================] - 0s 25ms/step - loss: 1.3444 - val_loss: 1.2304\n",
      "Epoch 58/100\n",
      "2/2 [==============================] - 0s 27ms/step - loss: 1.1986 - val_loss: 1.0432\n",
      "Epoch 59/100\n",
      "2/2 [==============================] - 0s 27ms/step - loss: 1.0755 - val_loss: 1.2119\n",
      "Epoch 60/100\n",
      "2/2 [==============================] - 0s 24ms/step - loss: 1.0158 - val_loss: 0.8630\n",
      "Epoch 61/100\n",
      "2/2 [==============================] - 0s 32ms/step - loss: 0.9026 - val_loss: 0.7232\n",
      "Epoch 62/100\n",
      "2/2 [==============================] - 0s 23ms/step - loss: 0.7509 - val_loss: 1.0332\n",
      "Epoch 63/100\n",
      "2/2 [==============================] - 0s 26ms/step - loss: 0.7563 - val_loss: 0.6083\n",
      "Epoch 64/100\n",
      "2/2 [==============================] - 0s 32ms/step - loss: 0.6335 - val_loss: 0.4450\n",
      "Epoch 65/100\n",
      "2/2 [==============================] - 0s 25ms/step - loss: 0.5103 - val_loss: 0.6351\n",
      "Epoch 66/100\n",
      "2/2 [==============================] - 0s 33ms/step - loss: 0.5060 - val_loss: 0.3791\n",
      "Epoch 67/100\n",
      "2/2 [==============================] - 0s 26ms/step - loss: 0.4281 - val_loss: 0.2814\n",
      "Epoch 68/100\n",
      "2/2 [==============================] - 0s 27ms/step - loss: 0.3533 - val_loss: 0.5094\n",
      "Epoch 69/100\n",
      "2/2 [==============================] - 0s 25ms/step - loss: 0.3722 - val_loss: 0.2548\n",
      "Epoch 70/100\n",
      "2/2 [==============================] - 0s 25ms/step - loss: 0.2960 - val_loss: 0.1608\n",
      "Epoch 71/100\n",
      "2/2 [==============================] - 0s 26ms/step - loss: 0.2485 - val_loss: 0.2492\n",
      "Epoch 72/100\n",
      "2/2 [==============================] - 0s 30ms/step - loss: 0.2118 - val_loss: 0.1141\n",
      "Epoch 73/100\n",
      "2/2 [==============================] - 0s 29ms/step - loss: 0.1458 - val_loss: 0.1186\n",
      "Epoch 74/100\n",
      "2/2 [==============================] - 0s 31ms/step - loss: 0.1211 - val_loss: 0.1050\n",
      "Epoch 75/100\n",
      "2/2 [==============================] - 0s 25ms/step - loss: 0.1020 - val_loss: 0.0733\n",
      "Epoch 76/100\n",
      "2/2 [==============================] - 0s 26ms/step - loss: 0.0829 - val_loss: 0.0840\n",
      "Epoch 77/100\n",
      "2/2 [==============================] - 0s 26ms/step - loss: 0.0804 - val_loss: 0.0519\n",
      "Epoch 78/100\n",
      "2/2 [==============================] - 0s 24ms/step - loss: 0.0632 - val_loss: 0.0439\n",
      "Epoch 79/100\n",
      "2/2 [==============================] - 0s 30ms/step - loss: 0.0536 - val_loss: 0.0517\n",
      "Epoch 80/100\n",
      "2/2 [==============================] - 0s 30ms/step - loss: 0.0463 - val_loss: 0.0347\n",
      "Epoch 81/100\n",
      "2/2 [==============================] - 0s 24ms/step - loss: 0.0395 - val_loss: 0.0300\n",
      "Epoch 82/100\n",
      "2/2 [==============================] - 0s 31ms/step - loss: 0.0371 - val_loss: 0.0293\n"
     ]
    },
    {
     "name": "stdout",
     "output_type": "stream",
     "text": [
      "Epoch 83/100\n",
      "2/2 [==============================] - 0s 25ms/step - loss: 0.0342 - val_loss: 0.0346\n",
      "Epoch 84/100\n",
      "2/2 [==============================] - 0s 26ms/step - loss: 0.0344 - val_loss: 0.0292\n",
      "Epoch 85/100\n",
      "2/2 [==============================] - 0s 27ms/step - loss: 0.0319 - val_loss: 0.0257\n",
      "Epoch 86/100\n",
      "2/2 [==============================] - 0s 23ms/step - loss: 0.0287 - val_loss: 0.0231\n",
      "Epoch 87/100\n",
      "2/2 [==============================] - 0s 23ms/step - loss: 0.0264 - val_loss: 0.0219\n",
      "Epoch 88/100\n",
      "2/2 [==============================] - 0s 25ms/step - loss: 0.0240 - val_loss: 0.0204\n",
      "Epoch 89/100\n",
      "2/2 [==============================] - 0s 27ms/step - loss: 0.0226 - val_loss: 0.0177\n",
      "Epoch 90/100\n",
      "2/2 [==============================] - 0s 26ms/step - loss: 0.0208 - val_loss: 0.0160\n",
      "Epoch 91/100\n",
      "2/2 [==============================] - 0s 25ms/step - loss: 0.0186 - val_loss: 0.0151\n",
      "Epoch 92/100\n",
      "2/2 [==============================] - 0s 32ms/step - loss: 0.0174 - val_loss: 0.0149\n",
      "Epoch 93/100\n",
      "2/2 [==============================] - 0s 28ms/step - loss: 0.0159 - val_loss: 0.0126\n",
      "Epoch 94/100\n",
      "2/2 [==============================] - 0s 24ms/step - loss: 0.0147 - val_loss: 0.0121\n",
      "Epoch 95/100\n",
      "2/2 [==============================] - 0s 27ms/step - loss: 0.0136 - val_loss: 0.0114\n",
      "Epoch 96/100\n",
      "2/2 [==============================] - 0s 25ms/step - loss: 0.0129 - val_loss: 0.0105\n",
      "Epoch 97/100\n",
      "2/2 [==============================] - 0s 29ms/step - loss: 0.0121 - val_loss: 0.0106\n",
      "Epoch 98/100\n",
      "2/2 [==============================] - 0s 23ms/step - loss: 0.0119 - val_loss: 0.0100\n",
      "Epoch 99/100\n",
      "2/2 [==============================] - 0s 26ms/step - loss: 0.0114 - val_loss: 0.0102\n",
      "Epoch 100/100\n",
      "2/2 [==============================] - 0s 27ms/step - loss: 0.0112 - val_loss: 0.0098\n"
     ]
    }
   ],
   "source": [
    "# train model on full train set, with 80/20 CV split\n",
    "training = model.fit(X_train, y_train, epochs=100, batch_size=32, validation_split=0.2)"
   ]
  },
  {
   "cell_type": "code",
   "execution_count": 11,
   "metadata": {
    "scrolled": true
   },
   "outputs": [
    {
     "data": {
      "image/png": "[encoded data removed]",
      "text/plain": [
       "<Figure size 640x480 with 1 Axes>"
      ]
     },
     "metadata": {},
     "output_type": "display_data"
    }
   ],
   "source": [
    "plt.plot(training.history['loss'])\n",
    "plt.plot(training.history['val_loss'])\n",
    "plt.title('model loss')\n",
    "plt.ylabel('loss')\n",
    "plt.xlabel('epoch')\n",
    "plt.legend(['train', 'validation'], loc='upper left')\n",
    "plt.show()"
   ]
  },
  {
   "cell_type": "code",
   "execution_count": 12,
   "metadata": {},
   "outputs": [
    {
     "name": "stdout",
     "output_type": "stream",
     "text": [
      "1/1 [==============================] - 0s 82ms/step\n"
     ]
    },
    {
     "data": {
      "text/plain": [
       "array([[33.16592]], dtype=float32)"
      ]
     },
     "execution_count": 12,
     "metadata": {},
     "output_type": "execute_result"
    }
   ],
   "source": [
    "model.predict([[17,19,21,23,25,27,29,31]])"
   ]
  },
  {
   "cell_type": "code",
   "execution_count": 13,
   "metadata": {},
   "outputs": [
    {
     "name": "stdout",
     "output_type": "stream",
     "text": [
      "3/3 [==============================] - 0s 2ms/step - loss: 0.0107\n"
     ]
    },
    {
     "data": {
      "text/plain": [
       "0.010659354738891125"
      ]
     },
     "execution_count": 13,
     "metadata": {},
     "output_type": "execute_result"
    }
   ],
   "source": [
    "model.evaluate(X_train,y_train)"
   ]
  },
  {
   "cell_type": "code",
   "execution_count": 14,
   "metadata": {
    "scrolled": true
   },
   "outputs": [
    {
     "name": "stdout",
     "output_type": "stream",
     "text": [
      "1/1 [==============================] - 0s 19ms/step - loss: 0.0104\n"
     ]
    },
    {
     "data": {
      "text/plain": [
       "0.010380207560956478"
      ]
     },
     "execution_count": 14,
     "metadata": {},
     "output_type": "execute_result"
    }
   ],
   "source": [
    "model.evaluate(X_test,y_test)"
   ]
  },
  {
   "cell_type": "code",
   "execution_count": 28,
   "metadata": {},
   "outputs": [
    {
     "data": {
      "text/plain": [
       "['model.joblib']"
      ]
     },
     "execution_count": 28,
     "metadata": {},
     "output_type": "execute_result"
    }
   ],
   "source": [
    "import joblib\n",
    "joblib.dump(filename=\"model.joblib\",value='model')"
   ]
  },
  {
   "cell_type": "code",
   "execution_count": 19,
   "metadata": {},
   "outputs": [],
   "source": [
    "def getter(l):\n",
    "    y=model.predict([l])\n",
    "    return(np.floor(y[0][0]))"
   ]
  },
  {
   "cell_type": "code",
   "execution_count": 20,
   "metadata": {},
   "outputs": [
    {
     "name": "stdout",
     "output_type": "stream",
     "text": [
      "1/1 [==============================] - 0s 33ms/step\n"
     ]
    },
    {
     "data": {
      "text/plain": [
       "33.0"
      ]
     },
     "execution_count": 20,
     "metadata": {},
     "output_type": "execute_result"
    }
   ],
   "source": [
    "getter([17,19,21,23,25,27,29,31])"
   ]
  },
  {
   "cell_type": "code",
   "execution_count": 22,
   "metadata": {},
   "outputs": [
    {
     "name": "stdout",
     "output_type": "stream",
     "text": [
      "1/1 [==============================] - 0s 32ms/step\n"
     ]
    },
    {
     "data": {
      "text/plain": [
       "153.0"
      ]
     },
     "execution_count": 22,
     "metadata": {},
     "output_type": "execute_result"
    }
   ],
   "source": [
    "getter([137,139,141,143,145,147,149,151])"
   ]
  },
  {
   "cell_type": "code",
   "execution_count": 24,
   "metadata": {
    "scrolled": true
   },
   "outputs": [
    {
     "name": "stdout",
     "output_type": "stream",
     "text": [
      "1/1 [==============================] - 0s 40ms/step\n"
     ]
    },
    {
     "data": {
      "text/plain": [
       "249.0"
      ]
     },
     "execution_count": 24,
     "metadata": {},
     "output_type": "execute_result"
    }
   ],
   "source": [
    "getter([233,235,237,239,241,243,245,247])"
   ]
  },
  {
   "cell_type": "code",
   "execution_count": null,
   "metadata": {},
   "outputs": [],
   "source": []
  }
 ],
 "metadata": {
  "kernelspec": {
   "display_name": "Python 3 (ipykernel)",
   "language": "python",
   "name": "python3"
  },
  "language_info": {
   "codemirror_mode": {
    "name": "ipython",
    "version": 3
   },
   "file_extension": ".py",
   "mimetype": "text/x-python",
   "name": "python",
   "nbconvert_exporter": "python",
   "pygments_lexer": "ipython3",
   "version": "3.9.13"
  },
  "vscode": {
   "interpreter": {
    "hash": "4163ea81555ac285c7d1a7af13358424018c1ed23b416b551ad3c1361fb12e9a"
   }
  }
 },
 "nbformat": 4,
 "nbformat_minor": 2
}
